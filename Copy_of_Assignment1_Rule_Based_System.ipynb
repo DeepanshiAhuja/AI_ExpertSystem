{
  "nbformat": 4,
  "nbformat_minor": 0,
  "metadata": {
    "colab": {
      "provenance": [],
      "include_colab_link": true
    },
    "kernelspec": {
      "name": "python3",
      "display_name": "Python 3"
    },
    "language_info": {
      "name": "python"
    }
  },
  "cells": [
    {
      "cell_type": "markdown",
      "metadata": {
        "id": "view-in-github",
        "colab_type": "text"
      },
      "source": [
        "<a href=\"https://colab.research.google.com/github/DeepanshiAhuja/AI_ExpertSystem/blob/main/Copy_of_Assignment1_Rule_Based_System.ipynb\" target=\"_parent\"><img src=\"https://colab.research.google.com/assets/colab-badge.svg\" alt=\"Open In Colab\"/></a>"
      ]
    },
    {
      "cell_type": "markdown",
      "source": [
        "<b>The Problem Statement</b>:\n",
        "\n",
        "You are tasked with creating a simple rule-based pet care assistant in Python. The goal is to develop a basic program that provides helpful reminders and suggestions for taking care of different types of pets, such as dogs, cats, and birds, based on predefined rules.\n",
        "\n",
        "<b>Some Rules to get you started</b>:\n",
        "\n",
        "*Example of a rule for dogs:* If the dog is a puppy (i.e. less than 2 years old) frequent training may be needed.\n",
        "\n",
        "*Example of a rule for cats:* If the cat's health is poor one may needed onitor their cat closely and consult a vet for any health issues."
      ],
      "metadata": {
        "id": "5r2msEl9py3R"
      }
    },
    {
      "cell_type": "markdown",
      "source": [
        "## The Code"
      ],
      "metadata": {
        "id": "hi0nFuvoppT9"
      }
    },
    {
      "cell_type": "markdown",
      "source": [
        "### Function to get the user's pet choice"
      ],
      "metadata": {
        "id": "WZrvsX8_ri3a"
      }
    },
    {
      "cell_type": "code",
      "source": [
        "class PetCareAssistant:\n",
        "    def get_pet_choice(self):\n",
        "        print(\"Choose a pet: \")\n",
        "        print(\"1. Dog\")\n",
        "        print(\"2. Cat\")\n",
        "        print(\"3. Parrot\")\n",
        "        choice = input(\"Enter the number of your choice: \")\n",
        "        return choice\n",
        "\n",
        "    def get_pet_info(self):\n",
        "        age = int(input(\"Enter your pet's age: \"))\n",
        "        health = input(\"Is your pet's health good, fair, or poor? \").lower()\n",
        "        return age, health\n",
        "\n",
        "    def care_tips(self, pet, age, health):\n",
        "        print(\"\\nHere are some care tips for your\", pet)\n",
        "\n",
        "        if age < 1:\n",
        "            if pet == \"dog\" or pet == \"cat\":\n",
        "                print(\"For a young\", pet + \", make sure to provide proper puppy/kitten food and training.\")\n",
        "            elif pet == \"parrot\":\n",
        "                print(\"For a young parrot, ensure proper nutrition and socialization.\")\n",
        "\n",
        "        if health == \"good\":\n",
        "            print(\"Keep up the good work with regular exercise and check-ups!\")\n",
        "        elif health == \"fair\":\n",
        "            print(\"Monitor your pet's health closely and follow vet recommendations.\")\n",
        "        elif health == \"poor\":\n",
        "            print(\"Consult a vet immediately and follow their instructions.\")\n",
        "\n",
        "        if pet == \"parrot\":\n",
        "            print(\"For your parrot, ensure mental stimulation with toys and social interaction.\")\n",
        "\n",
        "    def run_assistant(self):\n",
        "        print(\"Welcome to the Pet Care Assistant!\")\n",
        "        pet_choice = self.get_pet_choice()\n",
        "\n",
        "        if pet_choice == \"1\":\n",
        "            pet = \"dog\"\n",
        "        elif pet_choice == \"2\":\n",
        "            pet = \"cat\"\n",
        "        elif pet_choice == \"3\":\n",
        "            pet = \"parrot\"\n",
        "        else:\n",
        "            print(\"Invalid choice. Exiting...\")\n",
        "            return\n",
        "\n",
        "        age, health = self.get_pet_info()\n",
        "        self.care_tips(pet, age, health)\n",
        "\n",
        "if __name__ == \"__main__\":\n",
        "    assistant = PetCareAssistant()\n",
        "    assistant.run_assistant()\n"
      ],
      "metadata": {
        "colab": {
          "base_uri": "https://localhost:8080/"
        },
        "id": "blHcfhbwl6-_",
        "outputId": "069a9764-7748-46b9-a790-5104013872fe"
      },
      "execution_count": 25,
      "outputs": [
        {
          "output_type": "stream",
          "name": "stdout",
          "text": [
            "Welcome to the Pet Care Assistant!\n",
            "Choose a pet: \n",
            "1. Dog\n",
            "2. Cat\n",
            "3. Parrot\n",
            "Enter the number of your choice: 1\n",
            "Enter your pet's age: 1\n",
            "Is your pet's health good, fair, or poor? good\n",
            "\n",
            "Here are some care tips for your dog\n",
            "Keep up the good work with regular exercise and check-ups!\n"
          ]
        }
      ]
    },
    {
      "cell_type": "code",
      "source": [],
      "metadata": {
        "id": "00Z17vo0mCVH"
      },
      "execution_count": null,
      "outputs": []
    }
  ]
}