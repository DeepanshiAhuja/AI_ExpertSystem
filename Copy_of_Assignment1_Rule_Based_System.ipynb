{
  "nbformat": 4,
  "nbformat_minor": 0,
  "metadata": {
    "colab": {
      "provenance": [],
      "include_colab_link": true
    },
    "kernelspec": {
      "name": "python3",
      "display_name": "Python 3"
    },
    "language_info": {
      "name": "python"
    }
  },
  "cells": [
    {
      "cell_type": "markdown",
      "metadata": {
        "id": "view-in-github",
        "colab_type": "text"
      },
      "source": [
        "<a href=\"https://colab.research.google.com/github/DeepanshiAhuja/AI_ExpertSystem/blob/main/Copy_of_Assignment1_Rule_Based_System.ipynb\" target=\"_parent\"><img src=\"https://colab.research.google.com/assets/colab-badge.svg\" alt=\"Open In Colab\"/></a>"
      ]
    },
    {
      "cell_type": "markdown",
      "source": [
        "<b>The Problem Statement</b>:\n",
        "\n",
        "You are tasked with creating a simple rule-based pet care assistant in Python. The goal is to develop a basic program that provides helpful reminders and suggestions for taking care of different types of pets, such as dogs, cats, and birds, based on predefined rules.\n",
        "\n",
        "<b>Some Rules to get you started</b>:\n",
        "\n",
        "*Example of a rule for dogs:* If the dog is a puppy (i.e. less than 2 years old) frequent training may be needed.\n",
        "\n",
        "*Example of a rule for cats:* If the cat's health is poor one may needed onitor their cat closely and consult a vet for any health issues."
      ],
      "metadata": {
        "id": "5r2msEl9py3R"
      }
    },
    {
      "cell_type": "markdown",
      "source": [
        "## The Code"
      ],
      "metadata": {
        "id": "hi0nFuvoppT9"
      }
    },
    {
      "cell_type": "markdown",
      "source": [
        "### Function to get the user's pet choice"
      ],
      "metadata": {
        "id": "WZrvsX8_ri3a"
      }
    },
    {
      "cell_type": "code",
      "source": [
        "# Function to get the user's pet choice\n",
        "class PetCareAssistant:\n",
        "   def get_pet_choice(self):\n",
        "      print(\"Choose a pet:\")\n",
        "      print(\"1) Dog\")\n",
        "      print(\"2) Cat\")\n",
        "      print(\"3) Parrot\")\n",
        "\n",
        "      pet = int(input(\"Enter your pet type : \"))\n",
        "      return pet"
      ],
      "metadata": {
        "id": "eZOS63c-rij3"
      },
      "execution_count": 20,
      "outputs": []
    },
    {
      "cell_type": "markdown",
      "source": [
        "### Function to get pet's age and health as input from user"
      ],
      "metadata": {
        "id": "ih-mnNqnvI6N"
      }
    },
    {
      "cell_type": "code",
      "source": [
        "\n",
        "# Function to get the pet's age from the user\n",
        "def get_pet_age(self):\n",
        "    age = int(input(\"Enter the age of your pet : \"))\n",
        "    return age"
      ],
      "metadata": {
        "id": "bOmAKcsmvGkM"
      },
      "execution_count": 21,
      "outputs": []
    },
    {
      "cell_type": "code",
      "source": [
        "# Function to get the pet's health status from the user\n",
        "def get_pet_health(self):\n",
        "  print(\"Choose the health status of your pet:\")\n",
        "  print(\"a) Good\")\n",
        "  print(\"b) Fair\")\n",
        "  print(\"c) Poor\")\n",
        "\n",
        "  status = int(input(\"Choose health status from the above : \"))\n",
        "  return status"
      ],
      "metadata": {
        "id": "31-njL3fvIEn"
      },
      "execution_count": 22,
      "outputs": []
    },
    {
      "cell_type": "markdown",
      "source": [
        "### Function for rules for providing pet care tips"
      ],
      "metadata": {
        "id": "10mIZiAxrIWD"
      }
    },
    {
      "cell_type": "code",
      "execution_count": 23,
      "metadata": {
        "id": "EIpHv9ckpYzh"
      },
      "outputs": [],
      "source": [
        "# Function to provide pet care tips based on the user's choice, age, and health\n",
        "def provide_pet_care_tips(pet,age,status):\n",
        "    print(\"Some pet care tips based on your choice of\",pet)\n",
        "    if age<1:\n",
        "      if pet == \"Dog\" or pet == \"Cat\":\n",
        "        print(\"You should provide proper food and make sure that your young\",pet+\"is properly vaccinated.\")\n",
        "      elif pet == \"Parrot\":\n",
        "        print(\"You should provide proper nutrition and should socialise well with a young parrot.\")\n",
        "\n",
        "    if status == \"Good\":\n",
        "      print(\"Keep continuing the daily practices and should go for monthly checkups.\")\n",
        "    elif status == \"Fair\":\n",
        "      print(\"You should keep a record of the health of your pet on weekly basis and should consult a vet.\")\n",
        "    elif status == \"Poor\":\n",
        "      print(\"You should immediately consult a vet and follow his guidance.\")\n",
        "\n",
        "    if pet == \"Parrot\":\n",
        "      print(\"You should ensure his mental awareness by playing with him and noting his action patterns.\")\n",
        "\n",
        "\n"
      ]
    },
    {
      "cell_type": "markdown",
      "source": [
        "### Main function to run the pet care assistant"
      ],
      "metadata": {
        "id": "GIJtbG2UrtJM"
      }
    },
    {
      "cell_type": "code",
      "source": [
        "# Main function to run the pet care assistant\n",
        "def pet_care_assistant(self):\n",
        "    print(\"~~~~~~~~~~~PET CARE ASSISTANT!~~~~~~~~~~~~~~\")\n",
        "    pet_choice = self.get_pet_choice()\n",
        "\n",
        "    if pet_choice ==\"1\":\n",
        "      pet = \"Dog\"\n",
        "    elif pet_choice ==\"2\":\n",
        "      pet = \"Cat\"\n",
        "    else :\n",
        "      pet = \"Parrot\"\n",
        "      return\n",
        "\n",
        "    age = self.get_pet_age()\n",
        "    status = self.get_pet_health()\n",
        "    self.provide_health_care_tips(pet,age,status)"
      ],
      "metadata": {
        "id": "Sfqbwb0du179"
      },
      "execution_count": 24,
      "outputs": []
    },
    {
      "cell_type": "code",
      "source": [
        "# Run the program\n",
        "def pet_care_assistant():\n",
        "  assistant = PetCareAssistant()\n",
        "  assistant.pet_care_assistant()\n",
        "\n",
        "\n",
        "if __name__ == \"__main__\":\n",
        "  pet_care_assistant() #start the pet care assistant\n"
      ],
      "metadata": {
        "id": "Bm-vnwCvrxy4",
        "colab": {
          "base_uri": "https://localhost:8080/",
          "height": 332
        },
        "outputId": "ad8d77a2-0822-4ecd-922d-6a651605c822"
      },
      "execution_count": 26,
      "outputs": [
        {
          "output_type": "error",
          "ename": "AttributeError",
          "evalue": "ignored",
          "traceback": [
            "\u001b[0;31m---------------------------------------------------------------------------\u001b[0m",
            "\u001b[0;31mAttributeError\u001b[0m                            Traceback (most recent call last)",
            "\u001b[0;32m<ipython-input-26-9842f1f1b8e7>\u001b[0m in \u001b[0;36m<cell line: 7>\u001b[0;34m()\u001b[0m\n\u001b[1;32m      6\u001b[0m \u001b[0;34m\u001b[0m\u001b[0m\n\u001b[1;32m      7\u001b[0m \u001b[0;32mif\u001b[0m \u001b[0m__name__\u001b[0m \u001b[0;34m==\u001b[0m \u001b[0;34m\"__main__\"\u001b[0m\u001b[0;34m:\u001b[0m\u001b[0;34m\u001b[0m\u001b[0;34m\u001b[0m\u001b[0m\n\u001b[0;32m----> 8\u001b[0;31m   \u001b[0mpet_care_assistant\u001b[0m\u001b[0;34m(\u001b[0m\u001b[0;34m)\u001b[0m \u001b[0;31m#start the pet care assistant\u001b[0m\u001b[0;34m\u001b[0m\u001b[0;34m\u001b[0m\u001b[0m\n\u001b[0m",
            "\u001b[0;32m<ipython-input-26-9842f1f1b8e7>\u001b[0m in \u001b[0;36mpet_care_assistant\u001b[0;34m()\u001b[0m\n\u001b[1;32m      2\u001b[0m \u001b[0;32mdef\u001b[0m \u001b[0mpet_care_assistant\u001b[0m\u001b[0;34m(\u001b[0m\u001b[0;34m)\u001b[0m\u001b[0;34m:\u001b[0m\u001b[0;34m\u001b[0m\u001b[0;34m\u001b[0m\u001b[0m\n\u001b[1;32m      3\u001b[0m   \u001b[0massistant\u001b[0m \u001b[0;34m=\u001b[0m \u001b[0mPetCareAssistant\u001b[0m\u001b[0;34m(\u001b[0m\u001b[0;34m)\u001b[0m\u001b[0;34m\u001b[0m\u001b[0;34m\u001b[0m\u001b[0m\n\u001b[0;32m----> 4\u001b[0;31m   \u001b[0massistant\u001b[0m\u001b[0;34m.\u001b[0m\u001b[0mpet_care_assistant\u001b[0m\u001b[0;34m(\u001b[0m\u001b[0;34m)\u001b[0m\u001b[0;34m\u001b[0m\u001b[0;34m\u001b[0m\u001b[0m\n\u001b[0m\u001b[1;32m      5\u001b[0m \u001b[0;34m\u001b[0m\u001b[0m\n\u001b[1;32m      6\u001b[0m \u001b[0;34m\u001b[0m\u001b[0m\n",
            "\u001b[0;31mAttributeError\u001b[0m: 'PetCareAssistant' object has no attribute 'pet_care_assistant'"
          ]
        }
      ]
    }
  ]
}